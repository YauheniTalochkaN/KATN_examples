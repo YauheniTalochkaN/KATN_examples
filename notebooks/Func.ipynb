{
 "cells": [
  {
   "cell_type": "code",
   "execution_count": 1,
   "metadata": {},
   "outputs": [],
   "source": [
    "import os\n",
    "import math\n",
    "import numpy as np\n",
    "import torch\n",
    "from torch.utils.data import DataLoader, TensorDataset\n",
    "import matplotlib.pyplot as plt\n",
    "import KATNetwork"
   ]
  },
  {
   "cell_type": "code",
   "execution_count": 2,
   "metadata": {},
   "outputs": [],
   "source": [
    "num_in_channels = 2\n",
    "num_out_channels = 1 \n",
    "grid_size_train = 100\n",
    "grid_size_test = 10\n",
    "\n",
    "x_train = torch.linspace(-1, 1, grid_size_train, dtype=torch.float64)\n",
    "y_train = torch.linspace(-1, 1, grid_size_train, dtype=torch.float64)\n",
    "\n",
    "mesh_x_train, mesh_y_train = torch.meshgrid(x_train, y_train, indexing='ij')\n",
    "\n",
    "in_train_data = torch.stack([mesh_x_train.flatten(), mesh_y_train.flatten()], dim=1)\n",
    "\n",
    "x_test = torch.linspace(-1, 1, grid_size_test, dtype=torch.float64)\n",
    "y_test = torch.linspace(-1, 1, grid_size_test, dtype=torch.float64)\n",
    "\n",
    "mesh_x_test, mesh_y_test = torch.meshgrid(x_test, y_test, indexing='ij')\n",
    "\n",
    "in_test_data = torch.stack([mesh_x_test.flatten(), mesh_y_test.flatten()], dim=1)\n",
    "\n",
    "def compute_function(inputs):\n",
    "    x = inputs[:, 0]\n",
    "    y = inputs[:, 1]\n",
    "    return torch.exp(torch.sin(math.pi * x) + y**2)\n",
    "\n",
    "f_train = compute_function(in_train_data)\n",
    "out_train_data = f_train.unsqueeze(1)\n",
    "\n",
    "f_test = compute_function(in_test_data)\n",
    "out_test_data = f_test.unsqueeze(1)"
   ]
  },
  {
   "cell_type": "code",
   "execution_count": 3,
   "metadata": {},
   "outputs": [],
   "source": [
    "train_dataset = TensorDataset(in_train_data, out_train_data)\n",
    "train_loader = DataLoader(train_dataset, batch_size=100000, shuffle=True)\n",
    "\n",
    "test_dataset = TensorDataset(in_test_data, out_test_data)\n",
    "test_loader = DataLoader(test_dataset, batch_size=1000, shuffle=False)"
   ]
  },
  {
   "cell_type": "code",
   "execution_count": 4,
   "metadata": {},
   "outputs": [
    {
     "name": "stdout",
     "output_type": "stream",
     "text": [
      "Using cuda device\n"
     ]
    }
   ],
   "source": [
    "device = torch.device('cuda' if torch.cuda.is_available() else 'cpu')\n",
    "print(\"Using\", device, \"device\")"
   ]
  },
  {
   "cell_type": "code",
   "execution_count": 5,
   "metadata": {},
   "outputs": [],
   "source": [
    "def rms_loss(pred, target):\n",
    "    loss = (pred - target) ** 2\n",
    "    return torch.sqrt(loss.mean())\n",
    "\n",
    "def loss(pred, target, weights, sigmas, gamma=1e-5):\n",
    "    loss = (pred - target) ** 2 \n",
    "\n",
    "    reg = []\n",
    "    for i in range(len(weights)):\n",
    "        r = torch.abs(weights[i] / sigmas[i])\n",
    "        reg.append(r.sum())\n",
    "\n",
    "    return torch.sqrt(loss.mean()) + gamma * torch.stack(reg).sum()"
   ]
  },
  {
   "cell_type": "code",
   "execution_count": 6,
   "metadata": {},
   "outputs": [],
   "source": [
    "model = KATNetwork.KATMLP(2, [1], 1, [(-1, 1), (-1, 1)], 20).to(device) \n",
    "optimizer = torch.optim.LBFGS(\n",
    "    model.parameters(),\n",
    "    lr=0.1,              \n",
    "    max_iter=200,\n",
    "    max_eval=200,       \n",
    "    history_size=400,\n",
    "    line_search_fn='strong_wolfe'\n",
    ")"
   ]
  },
  {
   "cell_type": "code",
   "execution_count": 7,
   "metadata": {},
   "outputs": [
    {
     "name": "stdout",
     "output_type": "stream",
     "text": [
      "Epoch 1/50, Train Loss: 9.24494e-03, Test Loss: 1.06660e-02\n",
      "Epoch 2/50, Train Loss: 1.00652e-03, Test Loss: 1.46078e-03\n",
      "Epoch 3/50, Train Loss: 5.00205e-04, Test Loss: 7.49032e-04\n",
      "Epoch 4/50, Train Loss: 3.17238e-04, Test Loss: 3.90817e-04\n",
      "Epoch 5/50, Train Loss: 2.12945e-04, Test Loss: 3.39980e-04\n",
      "Epoch 6/50, Train Loss: 2.11002e-04, Test Loss: 3.46200e-04\n",
      "Epoch 7/50, Train Loss: 2.11018e-04, Test Loss: 3.46382e-04\n",
      "Epoch 8/50, Train Loss: 2.11017e-04, Test Loss: 3.46382e-04\n",
      "Epoch 9/50, Train Loss: 1.50080e-04, Test Loss: 2.22560e-04\n",
      "Epoch 10/50, Train Loss: 6.20676e-05, Test Loss: 8.65650e-05\n",
      "Epoch 11/50, Train Loss: 5.67097e-05, Test Loss: 8.80776e-05\n",
      "Epoch 12/50, Train Loss: 5.67097e-05, Test Loss: 8.80776e-05\n",
      "Epoch 13/50, Train Loss: 5.67097e-05, Test Loss: 8.80776e-05\n",
      "Epoch 14/50, Train Loss: 5.67097e-05, Test Loss: 8.80776e-05\n",
      "Epoch 15/50, Train Loss: 5.67097e-05, Test Loss: 8.80776e-05\n",
      "Epoch 16/50, Train Loss: 5.67097e-05, Test Loss: 8.80776e-05\n",
      "Epoch 17/50, Train Loss: 5.67097e-05, Test Loss: 8.80776e-05\n",
      "Epoch 18/50, Train Loss: 5.67097e-05, Test Loss: 8.80776e-05\n",
      "Epoch 19/50, Train Loss: 5.67097e-05, Test Loss: 8.80776e-05\n",
      "Epoch 20/50, Train Loss: 5.67097e-05, Test Loss: 8.80776e-05\n",
      "Epoch 21/50, Train Loss: 5.67097e-05, Test Loss: 8.80776e-05\n",
      "Epoch 22/50, Train Loss: 5.67097e-05, Test Loss: 8.80776e-05\n",
      "Epoch 23/50, Train Loss: 5.67097e-05, Test Loss: 8.80776e-05\n",
      "Epoch 24/50, Train Loss: 5.67097e-05, Test Loss: 8.80776e-05\n",
      "Epoch 25/50, Train Loss: 5.67097e-05, Test Loss: 8.80776e-05\n",
      "Epoch 26/50, Train Loss: 5.67097e-05, Test Loss: 8.80776e-05\n",
      "Epoch 27/50, Train Loss: 5.67097e-05, Test Loss: 8.80776e-05\n",
      "Epoch 28/50, Train Loss: 5.67097e-05, Test Loss: 8.80776e-05\n",
      "Epoch 29/50, Train Loss: 5.67097e-05, Test Loss: 8.80776e-05\n",
      "Epoch 30/50, Train Loss: 5.67097e-05, Test Loss: 8.80776e-05\n",
      "Epoch 31/50, Train Loss: 5.67097e-05, Test Loss: 8.80776e-05\n",
      "Epoch 32/50, Train Loss: 5.67097e-05, Test Loss: 8.80776e-05\n",
      "Epoch 33/50, Train Loss: 5.67097e-05, Test Loss: 8.80776e-05\n",
      "Epoch 34/50, Train Loss: 5.67097e-05, Test Loss: 8.80776e-05\n",
      "Epoch 35/50, Train Loss: 5.67097e-05, Test Loss: 8.80776e-05\n",
      "Epoch 36/50, Train Loss: 5.67097e-05, Test Loss: 8.80776e-05\n",
      "Epoch 37/50, Train Loss: 5.67097e-05, Test Loss: 8.80776e-05\n",
      "Epoch 38/50, Train Loss: 5.67097e-05, Test Loss: 8.80776e-05\n",
      "Epoch 39/50, Train Loss: 5.67097e-05, Test Loss: 8.80776e-05\n",
      "Epoch 40/50, Train Loss: 5.67097e-05, Test Loss: 8.80776e-05\n",
      "Epoch 41/50, Train Loss: 5.67097e-05, Test Loss: 8.80776e-05\n",
      "Epoch 42/50, Train Loss: 5.67097e-05, Test Loss: 8.80776e-05\n",
      "Epoch 43/50, Train Loss: 5.67097e-05, Test Loss: 8.80776e-05\n",
      "Epoch 44/50, Train Loss: 5.67097e-05, Test Loss: 8.80776e-05\n",
      "Epoch 45/50, Train Loss: 5.67097e-05, Test Loss: 8.80776e-05\n",
      "Epoch 46/50, Train Loss: 5.67097e-05, Test Loss: 8.80776e-05\n",
      "Epoch 47/50, Train Loss: 5.67097e-05, Test Loss: 8.80776e-05\n",
      "Epoch 48/50, Train Loss: 5.67097e-05, Test Loss: 8.80776e-05\n",
      "Epoch 49/50, Train Loss: 5.67097e-05, Test Loss: 8.80776e-05\n",
      "Epoch 50/50, Train Loss: 5.67097e-05, Test Loss: 8.80776e-05\n"
     ]
    }
   ],
   "source": [
    "criterion = loss\n",
    "num_epochs = 50\n",
    "\n",
    "train_loss_list = []\n",
    "test_loss_list = []\n",
    "\n",
    "for epoch in range(num_epochs):\n",
    "        model.train()\n",
    "\n",
    "        for inputs, targets in train_loader:\n",
    "            inputs, targets = inputs.to(device), targets.to(device)\n",
    "\n",
    "            def closure():\n",
    "                optimizer.zero_grad()\n",
    "                outputs = model(inputs)\n",
    "                loss = criterion(outputs, targets, \n",
    "                                [model.model[i].w for i in range(len(model.model))], \n",
    "                                [model.model[i].sigma for i in range(len(model.model))])\n",
    "\n",
    "                loss.backward()\n",
    "\n",
    "                return loss\n",
    "\n",
    "            optimizer.step(closure)\n",
    "\n",
    "        model.eval()\n",
    "        train_loss = 0.0\n",
    "        test_loss = 0.0\n",
    "\n",
    "        with torch.no_grad():\n",
    "            for inputs, targets in train_loader:\n",
    "                inputs, targets = inputs.to(device), targets.to(device)\n",
    "\n",
    "                outputs = model(inputs)\n",
    "\n",
    "                loss = rms_loss(outputs, targets)\n",
    "\n",
    "                train_loss += loss.item() * inputs.size(0)\n",
    "\n",
    "        train_loss /= len(train_loader.dataset)\n",
    "\n",
    "        with torch.no_grad():\n",
    "            for inputs, targets in test_loader:\n",
    "                inputs, targets = inputs.to(device), targets.to(device)\n",
    "\n",
    "                outputs = model(inputs)\n",
    "\n",
    "                loss = rms_loss(outputs, targets)\n",
    "\n",
    "                test_loss += loss.item() * inputs.size(0)\n",
    "\n",
    "        test_loss /= len(test_loader.dataset)\n",
    "\n",
    "        train_loss_list.append(train_loss)\n",
    "        test_loss_list.append(test_loss)\n",
    "\n",
    "        print(f\"Epoch {epoch + 1}/{num_epochs}, Train Loss: {train_loss:.5e}, Test Loss: {test_loss:.5e}\")"
   ]
  },
  {
   "cell_type": "code",
   "execution_count": null,
   "metadata": {},
   "outputs": [],
   "source": [
    "print(train_loss_list)"
   ]
  },
  {
   "cell_type": "code",
   "execution_count": null,
   "metadata": {},
   "outputs": [],
   "source": [
    "print(test_loss_list)"
   ]
  },
  {
   "cell_type": "code",
   "execution_count": 10,
   "metadata": {},
   "outputs": [
    {
     "name": "stdout",
     "output_type": "stream",
     "text": [
      "Model saved\n"
     ]
    }
   ],
   "source": [
    "output_dir = '../func_model/'\n",
    "\n",
    "model_save_path = os.path.join(output_dir, 'model_checkpoint.pth')\n",
    "\n",
    "if not os.path.exists(output_dir):\n",
    "        os.makedirs(output_dir)\n",
    "\n",
    "if os.path.exists(model_save_path):\n",
    "    os.remove(model_save_path)\n",
    "torch.save({\n",
    "    'epoch': epoch,\n",
    "    'model_state_dict': model.state_dict(),\n",
    "    'optimizer_state_dict': optimizer.state_dict(),\n",
    "}, model_save_path)\n",
    "print('Model saved')"
   ]
  },
  {
   "cell_type": "code",
   "execution_count": null,
   "metadata": {},
   "outputs": [
    {
     "name": "stdout",
     "output_type": "stream",
     "text": [
      "Loaded checkpoint from epoch 500\n"
     ]
    }
   ],
   "source": [
    "model_save_path = '../func_model/model_checkpoint.pth'\n",
    "\n",
    "if os.path.exists(model_save_path):\n",
    "    checkpoint = torch.load(model_save_path, weights_only=True, map_location=device)\n",
    "    if 'model_state_dict' in checkpoint and 'optimizer_state_dict' in checkpoint and 'epoch' in checkpoint:\n",
    "        model.load_state_dict(checkpoint['model_state_dict'])\n",
    "        optimizer.load_state_dict(checkpoint['optimizer_state_dict'])\n",
    "        print(f'Loaded checkpoint from epoch {checkpoint['epoch'] + 1}')\n",
    "    else:\n",
    "        print('Checkpoint file is missing some keys, starting from scratch.')"
   ]
  },
  {
   "cell_type": "code",
   "execution_count": 11,
   "metadata": {},
   "outputs": [],
   "source": [
    "xlist = np.linspace(-2, 2, 1000).tolist()\n",
    "\n",
    "ylist = [model.model[0].eval_func(x, 0, 0) for x in xlist]"
   ]
  },
  {
   "cell_type": "code",
   "execution_count": 20,
   "metadata": {},
   "outputs": [
    {
     "data": {
      "text/plain": [
       "tensor([[[[-1.0000, -0.8947, -0.7895, -0.6842, -0.5789, -0.4737, -0.3684,\n",
       "           -0.2632, -0.1579, -0.0526,  0.0526,  0.1579,  0.2632,  0.3684,\n",
       "            0.4737,  0.5789,  0.6842,  0.7895,  0.8947,  1.0000]]]],\n",
       "       device='cuda:0')"
      ]
     },
     "execution_count": 20,
     "metadata": {},
     "output_type": "execute_result"
    }
   ],
   "source": [
    "model.model[1].mx_start"
   ]
  },
  {
   "cell_type": "code",
   "execution_count": 21,
   "metadata": {},
   "outputs": [
    {
     "data": {
      "text/plain": [
       "Parameter containing:\n",
       "tensor([[0.5865]], device='cuda:0', requires_grad=True)"
      ]
     },
     "execution_count": 21,
     "metadata": {},
     "output_type": "execute_result"
    }
   ],
   "source": [
    "model.model[1].mx_train"
   ]
  },
  {
   "cell_type": "code",
   "execution_count": 22,
   "metadata": {},
   "outputs": [
    {
     "data": {
      "text/plain": [
       "Parameter containing:\n",
       "tensor([[[0.4483, 0.0445, 0.1736, 0.2875, 0.2862, 0.2650, 0.0636, 0.1970,\n",
       "          0.1188, 0.7767, 0.2730, 0.0376, 0.0452, 0.0451, 0.0451, 0.0451,\n",
       "          0.0451, 0.0451, 0.0451, 0.0451]]], device='cuda:0',\n",
       "       requires_grad=True)"
      ]
     },
     "execution_count": 22,
     "metadata": {},
     "output_type": "execute_result"
    }
   ],
   "source": [
    "model.model[1].sigma"
   ]
  },
  {
   "cell_type": "code",
   "execution_count": 23,
   "metadata": {},
   "outputs": [
    {
     "data": {
      "text/plain": [
       "Parameter containing:\n",
       "tensor([[[ 1.1517e-01, -6.0618e-05,  3.2719e-03, -5.8270e-02, -3.2247e-02,\n",
       "          -1.8249e-01,  4.3934e-04,  1.6500e-01, -1.0907e-01,  6.1227e+00,\n",
       "           6.6382e+00,  8.3243e-03,  4.8338e-03, -4.1477e-03,  4.2242e-03,\n",
       "          -4.0607e-03, -4.4985e-03,  2.7205e-03,  4.6380e-03,  4.1912e-03]]],\n",
       "       device='cuda:0', requires_grad=True)"
      ]
     },
     "execution_count": 23,
     "metadata": {},
     "output_type": "execute_result"
    }
   ],
   "source": [
    "model.model[1].w"
   ]
  },
  {
   "cell_type": "code",
   "execution_count": 24,
   "metadata": {},
   "outputs": [
    {
     "data": {
      "text/plain": [
       "Parameter containing:\n",
       "tensor([[[-4.9827e-02,  4.5072e-05,  4.6647e-04, -7.0158e-04,  3.0604e-02,\n",
       "          -4.2850e-03,  2.8139e-03, -1.2616e-03, -1.1658e-03,  5.5631e-01,\n",
       "          -2.3102e-01,  1.6807e-05, -9.9249e-07,  3.6360e-12, -3.9724e-26,\n",
       "           0.0000e+00,  0.0000e+00,  0.0000e+00,  0.0000e+00,  0.0000e+00]]],\n",
       "       device='cuda:0', requires_grad=True)"
      ]
     },
     "execution_count": 24,
     "metadata": {},
     "output_type": "execute_result"
    }
   ],
   "source": [
    "model.model[1].alpha"
   ]
  },
  {
   "cell_type": "code",
   "execution_count": 12,
   "metadata": {},
   "outputs": [
    {
     "data": {
      "image/png": "[encoded data removed]",
      "text/plain": [
       "<Figure size 600x500 with 1 Axes>"
      ]
     },
     "metadata": {},
     "output_type": "display_data"
    }
   ],
   "source": [
    "plt.figure(figsize=(6, 5))\n",
    "plt.plot(xlist, ylist, color='black', linestyle='-', linewidth=2)\n",
    "plt.xlabel(\"x\", fontsize=16)\n",
    "plt.ylabel(\"f(x)\", fontsize=16)\n",
    "plt.title(\"Activation function\", fontsize=16)\n",
    "plt.tick_params(axis='both', which='major', labelsize=14)\n",
    "plt.xlim(-2, 2)\n",
    "plt.ylim(min(ylist), max(ylist))\n",
    "plt.show()"
   ]
  },
  {
   "cell_type": "code",
   "execution_count": 13,
   "metadata": {},
   "outputs": [
    {
     "data": {
      "image/png": "[encoded data removed]",
      "text/plain": [
       "<Figure size 800x800 with 1 Axes>"
      ]
     },
     "metadata": {},
     "output_type": "display_data"
    }
   ],
   "source": [
    "plt.figure(figsize=(8, 8))\n",
    "plt.scatter([i for i in range(1, len(train_loss_list)+1)], train_loss_list, label='Train loss', s=15, alpha=1)\n",
    "plt.scatter([i for i in range(1, len(train_loss_list)+1)], test_loss_list, label='Test loss', s=15, alpha=1)\n",
    "plt.xlabel(\"Epochs\")\n",
    "plt.ylabel(\"RMS\")\n",
    "plt.title(\"True vs Predicted\")\n",
    "plt.xlim(1, 1.1 * len(train_loss_list))\n",
    "plt.ylim(1e-5, 10)\n",
    "plt.xscale('log')\n",
    "plt.yscale('log')\n",
    "plt.legend()\n",
    "plt.show()"
   ]
  }
 ],
 "metadata": {
  "kernelspec": {
   "display_name": "pyenv",
   "language": "python",
   "name": "python3"
  },
  "language_info": {
   "codemirror_mode": {
    "name": "ipython",
    "version": 3
   },
   "file_extension": ".py",
   "mimetype": "text/x-python",
   "name": "python",
   "nbconvert_exporter": "python",
   "pygments_lexer": "ipython3",
   "version": "3.12.9"
  }
 },
 "nbformat": 4,
 "nbformat_minor": 2
}
