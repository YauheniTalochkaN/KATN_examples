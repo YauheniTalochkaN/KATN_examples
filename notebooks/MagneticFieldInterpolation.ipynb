{
 "cells": [
  {
   "cell_type": "code",
   "execution_count": 1,
   "metadata": {},
   "outputs": [],
   "source": [
    "import os\n",
    "import numpy as np\n",
    "import torch\n",
    "import pandas as pd\n",
    "from torch.optim.lr_scheduler import StepLR\n",
    "from torch.utils.data import DataLoader, TensorDataset, Dataset\n",
    "import matplotlib.pyplot as plt\n",
    "import KATNetwork"
   ]
  },
  {
   "cell_type": "code",
   "execution_count": 2,
   "metadata": {},
   "outputs": [
    {
     "name": "stdout",
     "output_type": "stream",
     "text": [
      "in_data min: tensor([-251.9720,  -77.6700, -287.4100])\n",
      "in_data max: tensor([241.0120,  94.3300, 564.2900])\n",
      "out_data min: tensor([ -5.4150, -13.1449,  -5.4964])\n",
      "out_data max: tensor([5.1087, 3.1548, 5.4806])\n",
      "in_data shape: torch.Size([6111402, 3])\n",
      "out_data shape: torch.Size([6111402, 3])\n"
     ]
    }
   ],
   "source": [
    "data = pd.read_csv('../data/BMaN_data.csv', header=None)\n",
    "in_data = torch.tensor(data.iloc[:, :3].values, dtype=torch.float32)\n",
    "out_data = torch.tensor(data.iloc[:, 3:].values, dtype=torch.float32)\n",
    "\n",
    "in_data_min = in_data.min(dim=0).values\n",
    "in_data_max = in_data.max(dim=0).values\n",
    "in_data = (in_data - in_data_min) / (in_data_max - in_data_min)\n",
    "\n",
    "out_data_min = out_data.min(dim=0).values\n",
    "out_data_max = out_data.max(dim=0).values\n",
    "out_data = (out_data - out_data_min) / (out_data_max - out_data_min)\n",
    "\n",
    "print(\"in_data min:\", in_data_min)\n",
    "print(\"in_data max:\", in_data_max)\n",
    "print(\"out_data min:\", out_data_min)\n",
    "print(\"out_data max:\", out_data_max)\n",
    "\n",
    "print(\"in_data shape:\", in_data.shape)\n",
    "print(\"out_data shape:\", out_data.shape)\n"
   ]
  },
  {
   "cell_type": "code",
   "execution_count": 3,
   "metadata": {},
   "outputs": [],
   "source": [
    "train_dataset = TensorDataset(in_data, out_data)\n",
    "train_loader = DataLoader(train_dataset, batch_size=10000, shuffle=True)"
   ]
  },
  {
   "cell_type": "code",
   "execution_count": 4,
   "metadata": {},
   "outputs": [
    {
     "name": "stdout",
     "output_type": "stream",
     "text": [
      "Using cuda device\n"
     ]
    }
   ],
   "source": [
    "device = torch.device('cuda' if torch.cuda.is_available() else 'cpu')\n",
    "print(\"Using\", device, \"device\")"
   ]
  },
  {
   "cell_type": "code",
   "execution_count": 5,
   "metadata": {},
   "outputs": [],
   "source": [
    "def compute_divergence(y, x):\n",
    "    assert y.shape == x.shape, \"Output and input must have the same shape\"\n",
    "    divergence = torch.zeros(x.shape[0], device=x.device)\n",
    "    \n",
    "    for i in range(y.shape[1]):\n",
    "        grad = torch.autograd.grad(\n",
    "            outputs=y[:, i],\n",
    "            inputs=x,\n",
    "            grad_outputs=torch.ones_like(y[:, i]),\n",
    "            create_graph=True,\n",
    "            retain_graph=True,\n",
    "            allow_unused=False\n",
    "        )[0]\n",
    "        divergence += grad[:, i]\n",
    "    \n",
    "    return divergence"
   ]
  },
  {
   "cell_type": "code",
   "execution_count": 5,
   "metadata": {},
   "outputs": [],
   "source": [
    "def rms_loss(pred, target):\n",
    "    loss = (pred - target) ** 2\n",
    "    return torch.sqrt(loss.mean())\n",
    "\n",
    "def loss_fn(input, pred, target, weights, sigmas, gamma=0.0001, beta=0.0001):\n",
    "    rms_loss = torch.sqrt(torch.mean((pred - target) ** 2))\n",
    "    #divergence_loss = torch.sqrt(torch.mean(compute_divergence(pred, input)**2))\n",
    "\n",
    "    reg = []\n",
    "    for i in range(len(weights)):\n",
    "        r = torch.abs(weights[i])\n",
    "        reg.append(r.sum())\n",
    "    \n",
    "    return rms_loss + gamma * torch.stack(reg).sum() #+ beta * divergence_loss"
   ]
  },
  {
   "cell_type": "code",
   "execution_count": null,
   "metadata": {},
   "outputs": [],
   "source": [
    "model = KATNetwork.KATMLP(3, [21], 3, [(0, 1), (-1, 1)], 20).to(device) \n",
    "optimizer = torch.optim.AdamW(model.parameters(), lr=0.001, amsgrad=True, weight_decay=1e-3)\n",
    "scheduler = StepLR(optimizer, step_size=2, gamma=0.95)\n",
    "\"\"\" optimizer = torch.optim.LBFGS(\n",
    "    model.parameters(),\n",
    "    lr=0.1,              \n",
    "    max_iter=50,\n",
    "    max_eval=50,       \n",
    "    history_size=200,\n",
    "    line_search_fn='strong_wolfe'\n",
    ") \"\"\""
   ]
  },
  {
   "cell_type": "code",
   "execution_count": null,
   "metadata": {},
   "outputs": [],
   "source": [
    "criterion = loss_fn\n",
    "num_epochs = 30\n",
    "\n",
    "train_loss_list = []\n",
    "\n",
    "for epoch in range(num_epochs):\n",
    "        model.train()\n",
    "\n",
    "        for inputs, targets in train_loader:\n",
    "            inputs, targets = inputs.to(device), targets.to(device)\n",
    "\n",
    "            #inputs.requires_grad_(True)\n",
    "\n",
    "            optimizer.zero_grad()\n",
    "\n",
    "            outputs = model(inputs)\n",
    "\n",
    "            loss = criterion(inputs, outputs, targets, \n",
    "                            [model.model[i].w for i in range(len(model.model))], \n",
    "                            [model.model[i].sigma for i in range(len(model.model))])\n",
    "\n",
    "            loss.backward()\n",
    "\n",
    "            optimizer.step()\n",
    "\n",
    "            \"\"\" def closure():\n",
    "                optimizer.zero_grad()\n",
    "                outputs = model(inputs)\n",
    "                loss = criterion(inputs, outputs, targets, \n",
    "                                [model.model[i].w for i in range(len(model.model))], \n",
    "                                [model.model[i].sigma for i in range(len(model.model))])\n",
    "\n",
    "                loss.backward()\n",
    "\n",
    "                return loss\n",
    "\n",
    "            optimizer.step(closure) \"\"\"\n",
    "        \n",
    "        model.eval()\n",
    "        train_loss = 0.0\n",
    "\n",
    "        with torch.no_grad():\n",
    "            for inputs, targets in train_loader:\n",
    "                inputs, targets = inputs.to(device), targets.to(device)\n",
    "\n",
    "                outputs = model(inputs)\n",
    "\n",
    "                loss = rms_loss(outputs, targets)\n",
    "\n",
    "                train_loss += loss.item() * inputs.size(0)\n",
    "\n",
    "        train_loss /= len(train_loader.dataset)\n",
    "\n",
    "        train_loss_list.append(train_loss)\n",
    "\n",
    "        scheduler.step()\n",
    "\n",
    "        print(f\"Epoch {epoch + 1}/{num_epochs}, Train Loss: {train_loss:.5e}\")"
   ]
  },
  {
   "cell_type": "code",
   "execution_count": 10,
   "metadata": {},
   "outputs": [
    {
     "name": "stdout",
     "output_type": "stream",
     "text": [
      "Model saved\n"
     ]
    }
   ],
   "source": [
    "output_dir = '../bman_model/'\n",
    "\n",
    "model_save_path = os.path.join(output_dir, 'adamw_model_checkpoint.pth')\n",
    "\n",
    "if not os.path.exists(output_dir):\n",
    "        os.makedirs(output_dir)\n",
    "\n",
    "if os.path.exists(model_save_path):\n",
    "    os.remove(model_save_path)\n",
    "torch.save({\n",
    "    'epoch': epoch,\n",
    "    'model_state_dict': model.state_dict(),\n",
    "    'optimizer_state_dict': optimizer.state_dict(),\n",
    "    'scheduler_state_dict': scheduler.state_dict(),\n",
    "}, model_save_path)\n",
    "print('Model saved')"
   ]
  },
  {
   "cell_type": "code",
   "execution_count": 11,
   "metadata": {},
   "outputs": [
    {
     "name": "stdout",
     "output_type": "stream",
     "text": [
      "Loaded checkpoint from epoch 10\n"
     ]
    }
   ],
   "source": [
    "model_save_path = '../bman_model/model_checkpoint.pth'\n",
    "\n",
    "if os.path.exists(model_save_path):\n",
    "    checkpoint = torch.load(model_save_path, weights_only=True, map_location=device)\n",
    "    if 'model_state_dict' in checkpoint and 'optimizer_state_dict' in checkpoint and 'epoch' in checkpoint:\n",
    "        model.load_state_dict(checkpoint['model_state_dict'])\n",
    "        optimizer.load_state_dict(checkpoint['optimizer_state_dict'])\n",
    "        scheduler.load_state_dict(checkpoint['scheduler_state_dict'])\n",
    "        print(f'Loaded checkpoint from epoch {checkpoint['epoch'] + 1}')\n",
    "    else:\n",
    "        print('Checkpoint file is missing some keys, starting from scratch.')"
   ]
  },
  {
   "cell_type": "code",
   "execution_count": 11,
   "metadata": {},
   "outputs": [
    {
     "data": {
      "image/png": "[encoded data removed]",
      "text/plain": [
       "<Figure size 600x500 with 1 Axes>"
      ]
     },
     "metadata": {},
     "output_type": "display_data"
    }
   ],
   "source": [
    "xlist = np.linspace(-2, 2, 1000).tolist()\n",
    "ylist = [model.model[0].eval_func(x, 0, 0) for x in xlist]\n",
    "\n",
    "plt.figure(figsize=(6, 5))\n",
    "plt.plot(xlist, ylist, color='black', linestyle='-', linewidth=2)\n",
    "plt.xlabel(\"x\", fontsize=16)\n",
    "plt.ylabel(\"f(x)\", fontsize=16)\n",
    "plt.title(\"Activation function\", fontsize=16)\n",
    "plt.tick_params(axis='both', which='major', labelsize=14)\n",
    "plt.xlim(-2, 2)\n",
    "plt.ylim(min(ylist), max(ylist))\n",
    "plt.show()"
   ]
  },
  {
   "cell_type": "code",
   "execution_count": 14,
   "metadata": {},
   "outputs": [],
   "source": [
    "ntest = 201\n",
    "xrange = (0, 1)\n",
    "yrange = (0, 1)\n",
    "zrange = (0, 1)\n",
    "\n",
    "Xtest, Ytest, Ztest = np.meshgrid(np.linspace(*xrange, ntest), np.linspace(*yrange, ntest), np.linspace(*zrange, ntest))\n",
    "in_test_data = torch.tensor(np.array([Xtest.ravel(), Ytest.ravel(), Ztest.ravel()]).T, dtype=torch.float32)"
   ]
  },
  {
   "cell_type": "code",
   "execution_count": 15,
   "metadata": {},
   "outputs": [],
   "source": [
    "class TestDataset(Dataset):\n",
    "    def __init__(self, data):\n",
    "        self.data = data\n",
    "\n",
    "    def __len__(self):\n",
    "        return len(self.data)\n",
    "\n",
    "    def __getitem__(self, idx):\n",
    "        return self.data[idx]\n",
    "\n",
    "test_dataset = TestDataset(in_test_data)\n",
    "test_loader = DataLoader(test_dataset, batch_size=1000, shuffle=False)"
   ]
  },
  {
   "cell_type": "code",
   "execution_count": 16,
   "metadata": {},
   "outputs": [
    {
     "name": "stdout",
     "output_type": "stream",
     "text": [
      "Results are saved in 'results.txt'.\n"
     ]
    }
   ],
   "source": [
    "model.eval()\n",
    "\n",
    "pred_values = []\n",
    "\n",
    "with torch.no_grad():\n",
    "    for inputs in test_loader:\n",
    "        inputs = inputs.to(device)\n",
    "\n",
    "        outputs = model(inputs)\n",
    "\n",
    "        pred_values.append(outputs.cpu())\n",
    "\n",
    "pred_values = torch.cat(pred_values, dim=0)\n",
    "\n",
    "with open('../results/fit_results.txt', mode='w') as file:\n",
    "    for i in range(in_test_data.size(0)):\n",
    "        file.write(f'{in_test_data[i, 0].item():.5f}\\t{in_test_data[i, 1].item():.5f}\\t{in_test_data[i, 2].item():.5f}\\t{pred_values[i, 0].item():.5f}\\t{pred_values[i, 1].item():.5f}\\t{pred_values[i, 2].item():.5f}\\n')\n",
    "\n",
    "print(\"Results are saved in 'results.txt'.\")"
   ]
  },
  {
   "cell_type": "code",
   "execution_count": null,
   "metadata": {},
   "outputs": [],
   "source": [
    "print(train_loss_list)"
   ]
  },
  {
   "cell_type": "code",
   "execution_count": null,
   "metadata": {},
   "outputs": [],
   "source": [
    "plt.figure(figsize=(7, 5))\n",
    "plt.plot([i for i in range(1, len(train_loss_list)+1)], train_loss_list, color='black', linestyle='-', linewidth=2)\n",
    "plt.xlabel(\"Epochs\")\n",
    "plt.ylabel(\"RMS\")\n",
    "plt.title(\"True vs Predicted\")\n",
    "plt.xlim(0.95, 1.05 * len(train_loss_list))\n",
    "plt.ylim(1e-3, 2e-2)\n",
    "plt.xscale('log')\n",
    "plt.yscale('log')\n",
    "plt.show()"
   ]
  }
 ],
 "metadata": {
  "kernelspec": {
   "display_name": "pyenv",
   "language": "python",
   "name": "python3"
  },
  "language_info": {
   "codemirror_mode": {
    "name": "ipython",
    "version": 3
   },
   "file_extension": ".py",
   "mimetype": "text/x-python",
   "name": "python",
   "nbconvert_exporter": "python",
   "pygments_lexer": "ipython3",
   "version": "3.12.9"
  }
 },
 "nbformat": 4,
 "nbformat_minor": 2
}
